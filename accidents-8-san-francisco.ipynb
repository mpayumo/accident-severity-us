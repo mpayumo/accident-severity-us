{
 "cells": [
  {
   "cell_type": "code",
   "execution_count": 64,
   "metadata": {},
   "outputs": [],
   "source": [
    "import pandas as pd\n",
    "import numpy as np\n",
    "import seaborn as sns\n",
    "import matplotlib.pyplot as plt\n",
    "%matplotlib inline\n",
    "plt.style.use('fast')\n",
    "\n",
    "from sklearn.model_selection import train_test_split\n",
    "from sklearn.metrics import jaccard_similarity_score\n",
    "from sklearn.metrics import log_loss\n",
    "from sklearn.metrics import mean_squared_error, r2_score\n",
    "from sklearn import preprocessing\n",
    "from scipy.special import comb\n",
    "\n",
    "from sklearn.tree import DecisionTreeRegressor\n",
    "from sklearn.ensemble import RandomForestRegressor, GradientBoostingRegressor\n",
    "from sklearn.metrics import log_loss, make_scorer\n",
    "from sklearn.model_selection import cross_val_score, train_test_split, GridSearchCV\n",
    "\n",
    "import statsmodels.api as sm\n",
    "import os"
   ]
  },
  {
   "cell_type": "code",
   "execution_count": 2,
   "metadata": {},
   "outputs": [],
   "source": [
    "df = pd.read_csv('data/3-accidents-dummies-next.csv')"
   ]
  },
  {
   "cell_type": "code",
   "execution_count": 3,
   "metadata": {},
   "outputs": [
    {
     "data": {
      "text/plain": [
       "Index(['Unnamed: 0', 'TMC', 'Severity', 'Start_Time', 'End_Time',\n",
       "       'Distance(mi)', 'Side', 'City', 'County', 'State', 'Zipcode',\n",
       "       'Weather_Timestamp', 'Temperature', 'Humidity_pct', 'Visibility_mi',\n",
       "       'Windspeed_mph', 'Weather_Condition', 'Amenity', 'Bump', 'Crossing',\n",
       "       'Give_Way', 'Junction', 'No_Exit', 'Railway', 'Roundabout', 'Station',\n",
       "       'Stop', 'Traffic_Calming', 'Traffic_Signal', 'Sunrise_Sunset',\n",
       "       'Civil_Twilight', 'Nautical_Twilight', 'Astronomical_Twilight'],\n",
       "      dtype='object')"
      ]
     },
     "execution_count": 3,
     "metadata": {},
     "output_type": "execute_result"
    }
   ],
   "source": [
    "df.columns"
   ]
  },
  {
   "cell_type": "code",
   "execution_count": 4,
   "metadata": {},
   "outputs": [],
   "source": [
    "df = df[['Severity', 'Start_Time', 'End_Time',\n",
    "       'Distance(mi)', 'Side', 'City', 'State',\n",
    "       'Weather_Timestamp', 'Temperature', 'Humidity_pct', 'Visibility_mi',\n",
    "       'Windspeed_mph', 'Weather_Condition', 'Amenity', 'Bump', 'Crossing',\n",
    "       'Give_Way', 'Junction', 'No_Exit', 'Railway', 'Roundabout', 'Station',\n",
    "       'Stop', 'Traffic_Calming', 'Traffic_Signal', 'Sunrise_Sunset',\n",
    "       'Civil_Twilight', 'Nautical_Twilight', 'Astronomical_Twilight']]"
   ]
  },
  {
   "cell_type": "markdown",
   "metadata": {},
   "source": [
    "## California"
   ]
  },
  {
   "cell_type": "code",
   "execution_count": 5,
   "metadata": {},
   "outputs": [],
   "source": [
    "df = df[df['State'] == 'CA']"
   ]
  },
  {
   "cell_type": "code",
   "execution_count": 6,
   "metadata": {},
   "outputs": [
    {
     "data": {
      "text/plain": [
       "(645967, 29)"
      ]
     },
     "execution_count": 6,
     "metadata": {},
     "output_type": "execute_result"
    }
   ],
   "source": [
    "df.shape"
   ]
  },
  {
   "cell_type": "markdown",
   "metadata": {},
   "source": [
    "## San Francisco"
   ]
  },
  {
   "cell_type": "code",
   "execution_count": 7,
   "metadata": {},
   "outputs": [],
   "source": [
    "df = df[df['City'] == 'San Francisco']"
   ]
  },
  {
   "cell_type": "code",
   "execution_count": 8,
   "metadata": {},
   "outputs": [
    {
     "data": {
      "text/plain": [
       "(8307, 29)"
      ]
     },
     "execution_count": 8,
     "metadata": {},
     "output_type": "execute_result"
    }
   ],
   "source": [
    "df.shape"
   ]
  },
  {
   "cell_type": "code",
   "execution_count": 9,
   "metadata": {},
   "outputs": [],
   "source": [
    "df.drop(columns=['City', 'State'], inplace=True)"
   ]
  },
  {
   "cell_type": "code",
   "execution_count": 10,
   "metadata": {},
   "outputs": [
    {
     "data": {
      "text/plain": [
       "R    7865\n",
       "L     442\n",
       "Name: Side, dtype: int64"
      ]
     },
     "execution_count": 10,
     "metadata": {},
     "output_type": "execute_result"
    }
   ],
   "source": [
    "df.Side.value_counts()"
   ]
  },
  {
   "cell_type": "code",
   "execution_count": 11,
   "metadata": {},
   "outputs": [],
   "source": [
    "df['Side'] = df['Side'].map({'L':1, 'R':0})"
   ]
  },
  {
   "cell_type": "code",
   "execution_count": 12,
   "metadata": {},
   "outputs": [],
   "source": [
    "df.drop(columns=['Start_Time', 'End_Time'], inplace=True)"
   ]
  },
  {
   "cell_type": "code",
   "execution_count": 13,
   "metadata": {},
   "outputs": [
    {
     "data": {
      "text/plain": [
       "(8307, 25)"
      ]
     },
     "execution_count": 13,
     "metadata": {},
     "output_type": "execute_result"
    }
   ],
   "source": [
    "df.shape"
   ]
  },
  {
   "cell_type": "code",
   "execution_count": 14,
   "metadata": {},
   "outputs": [],
   "source": [
    "df['day_of_week'] = pd.to_datetime(df['Weather_Timestamp'])"
   ]
  },
  {
   "cell_type": "code",
   "execution_count": 15,
   "metadata": {},
   "outputs": [],
   "source": [
    "df['day_of_week'] = df['day_of_week'].dt.dayofweek"
   ]
  },
  {
   "cell_type": "code",
   "execution_count": 16,
   "metadata": {},
   "outputs": [
    {
     "data": {
      "text/plain": [
       "2    1568\n",
       "3    1444\n",
       "4    1328\n",
       "1    1299\n",
       "0    1172\n",
       "6     749\n",
       "5     747\n",
       "Name: day_of_week, dtype: int64"
      ]
     },
     "execution_count": 16,
     "metadata": {},
     "output_type": "execute_result"
    }
   ],
   "source": [
    "df.day_of_week.value_counts()"
   ]
  },
  {
   "cell_type": "code",
   "execution_count": 17,
   "metadata": {},
   "outputs": [],
   "source": [
    "df.drop('Weather_Timestamp',1,inplace=True)"
   ]
  },
  {
   "cell_type": "code",
   "execution_count": 18,
   "metadata": {},
   "outputs": [
    {
     "data": {
      "text/plain": [
       "(8307, 25)"
      ]
     },
     "execution_count": 18,
     "metadata": {},
     "output_type": "execute_result"
    }
   ],
   "source": [
    "df.shape"
   ]
  },
  {
   "cell_type": "code",
   "execution_count": 19,
   "metadata": {},
   "outputs": [],
   "source": [
    "df = pd.concat([df, pd.get_dummies(df['Weather_Condition'])], axis=1)"
   ]
  },
  {
   "cell_type": "code",
   "execution_count": 20,
   "metadata": {},
   "outputs": [],
   "source": [
    "df.drop('Weather_Condition',1,inplace=True)"
   ]
  },
  {
   "cell_type": "code",
   "execution_count": 21,
   "metadata": {},
   "outputs": [
    {
     "data": {
      "text/plain": [
       "(8307, 48)"
      ]
     },
     "execution_count": 21,
     "metadata": {},
     "output_type": "execute_result"
    }
   ],
   "source": [
    "df.shape"
   ]
  },
  {
   "cell_type": "code",
   "execution_count": 22,
   "metadata": {
    "scrolled": true
   },
   "outputs": [
    {
     "data": {
      "text/html": [
       "<div>\n",
       "<style scoped>\n",
       "    .dataframe tbody tr th:only-of-type {\n",
       "        vertical-align: middle;\n",
       "    }\n",
       "\n",
       "    .dataframe tbody tr th {\n",
       "        vertical-align: top;\n",
       "    }\n",
       "\n",
       "    .dataframe thead th {\n",
       "        text-align: right;\n",
       "    }\n",
       "</style>\n",
       "<table border=\"1\" class=\"dataframe\">\n",
       "  <thead>\n",
       "    <tr style=\"text-align: right;\">\n",
       "      <th></th>\n",
       "      <th>Severity</th>\n",
       "      <th>Distance(mi)</th>\n",
       "      <th>Side</th>\n",
       "      <th>Temperature</th>\n",
       "      <th>Humidity_pct</th>\n",
       "      <th>Visibility_mi</th>\n",
       "      <th>Windspeed_mph</th>\n",
       "      <th>Amenity</th>\n",
       "      <th>Bump</th>\n",
       "      <th>Crossing</th>\n",
       "      <th>...</th>\n",
       "      <th>Mostly Cloudy / Windy</th>\n",
       "      <th>Overcast</th>\n",
       "      <th>Partly Cloudy</th>\n",
       "      <th>Partly Cloudy / Windy</th>\n",
       "      <th>Patches of Fog</th>\n",
       "      <th>Rain</th>\n",
       "      <th>Rain / Windy</th>\n",
       "      <th>Scattered Clouds</th>\n",
       "      <th>Shallow Fog</th>\n",
       "      <th>Smoke</th>\n",
       "    </tr>\n",
       "  </thead>\n",
       "  <tbody>\n",
       "    <tr>\n",
       "      <td>733</td>\n",
       "      <td>3</td>\n",
       "      <td>0.000</td>\n",
       "      <td>0</td>\n",
       "      <td>71.1</td>\n",
       "      <td>55.0</td>\n",
       "      <td>10.0</td>\n",
       "      <td>4.6</td>\n",
       "      <td>0</td>\n",
       "      <td>0</td>\n",
       "      <td>0</td>\n",
       "      <td>...</td>\n",
       "      <td>0</td>\n",
       "      <td>0</td>\n",
       "      <td>1</td>\n",
       "      <td>0</td>\n",
       "      <td>0</td>\n",
       "      <td>0</td>\n",
       "      <td>0</td>\n",
       "      <td>0</td>\n",
       "      <td>0</td>\n",
       "      <td>0</td>\n",
       "    </tr>\n",
       "    <tr>\n",
       "      <td>763</td>\n",
       "      <td>3</td>\n",
       "      <td>0.000</td>\n",
       "      <td>0</td>\n",
       "      <td>73.0</td>\n",
       "      <td>44.0</td>\n",
       "      <td>10.0</td>\n",
       "      <td>19.6</td>\n",
       "      <td>0</td>\n",
       "      <td>0</td>\n",
       "      <td>0</td>\n",
       "      <td>...</td>\n",
       "      <td>0</td>\n",
       "      <td>0</td>\n",
       "      <td>1</td>\n",
       "      <td>0</td>\n",
       "      <td>0</td>\n",
       "      <td>0</td>\n",
       "      <td>0</td>\n",
       "      <td>0</td>\n",
       "      <td>0</td>\n",
       "      <td>0</td>\n",
       "    </tr>\n",
       "    <tr>\n",
       "      <td>764</td>\n",
       "      <td>2</td>\n",
       "      <td>0.000</td>\n",
       "      <td>0</td>\n",
       "      <td>77.0</td>\n",
       "      <td>40.0</td>\n",
       "      <td>10.0</td>\n",
       "      <td>11.5</td>\n",
       "      <td>0</td>\n",
       "      <td>0</td>\n",
       "      <td>0</td>\n",
       "      <td>...</td>\n",
       "      <td>0</td>\n",
       "      <td>0</td>\n",
       "      <td>1</td>\n",
       "      <td>0</td>\n",
       "      <td>0</td>\n",
       "      <td>0</td>\n",
       "      <td>0</td>\n",
       "      <td>0</td>\n",
       "      <td>0</td>\n",
       "      <td>0</td>\n",
       "    </tr>\n",
       "    <tr>\n",
       "      <td>786</td>\n",
       "      <td>3</td>\n",
       "      <td>0.000</td>\n",
       "      <td>0</td>\n",
       "      <td>71.1</td>\n",
       "      <td>47.0</td>\n",
       "      <td>10.0</td>\n",
       "      <td>24.2</td>\n",
       "      <td>0</td>\n",
       "      <td>0</td>\n",
       "      <td>0</td>\n",
       "      <td>...</td>\n",
       "      <td>0</td>\n",
       "      <td>0</td>\n",
       "      <td>1</td>\n",
       "      <td>0</td>\n",
       "      <td>0</td>\n",
       "      <td>0</td>\n",
       "      <td>0</td>\n",
       "      <td>0</td>\n",
       "      <td>0</td>\n",
       "      <td>0</td>\n",
       "    </tr>\n",
       "    <tr>\n",
       "      <td>806</td>\n",
       "      <td>2</td>\n",
       "      <td>0.000</td>\n",
       "      <td>0</td>\n",
       "      <td>61.0</td>\n",
       "      <td>67.0</td>\n",
       "      <td>10.0</td>\n",
       "      <td>20.7</td>\n",
       "      <td>0</td>\n",
       "      <td>0</td>\n",
       "      <td>0</td>\n",
       "      <td>...</td>\n",
       "      <td>0</td>\n",
       "      <td>0</td>\n",
       "      <td>1</td>\n",
       "      <td>0</td>\n",
       "      <td>0</td>\n",
       "      <td>0</td>\n",
       "      <td>0</td>\n",
       "      <td>0</td>\n",
       "      <td>0</td>\n",
       "      <td>0</td>\n",
       "    </tr>\n",
       "    <tr>\n",
       "      <td>...</td>\n",
       "      <td>...</td>\n",
       "      <td>...</td>\n",
       "      <td>...</td>\n",
       "      <td>...</td>\n",
       "      <td>...</td>\n",
       "      <td>...</td>\n",
       "      <td>...</td>\n",
       "      <td>...</td>\n",
       "      <td>...</td>\n",
       "      <td>...</td>\n",
       "      <td>...</td>\n",
       "      <td>...</td>\n",
       "      <td>...</td>\n",
       "      <td>...</td>\n",
       "      <td>...</td>\n",
       "      <td>...</td>\n",
       "      <td>...</td>\n",
       "      <td>...</td>\n",
       "      <td>...</td>\n",
       "      <td>...</td>\n",
       "      <td>...</td>\n",
       "    </tr>\n",
       "    <tr>\n",
       "      <td>2897551</td>\n",
       "      <td>2</td>\n",
       "      <td>0.305</td>\n",
       "      <td>0</td>\n",
       "      <td>71.0</td>\n",
       "      <td>73.0</td>\n",
       "      <td>10.0</td>\n",
       "      <td>7.0</td>\n",
       "      <td>0</td>\n",
       "      <td>0</td>\n",
       "      <td>0</td>\n",
       "      <td>...</td>\n",
       "      <td>0</td>\n",
       "      <td>0</td>\n",
       "      <td>0</td>\n",
       "      <td>0</td>\n",
       "      <td>0</td>\n",
       "      <td>0</td>\n",
       "      <td>0</td>\n",
       "      <td>0</td>\n",
       "      <td>0</td>\n",
       "      <td>0</td>\n",
       "    </tr>\n",
       "    <tr>\n",
       "      <td>2897559</td>\n",
       "      <td>2</td>\n",
       "      <td>0.674</td>\n",
       "      <td>0</td>\n",
       "      <td>78.0</td>\n",
       "      <td>56.0</td>\n",
       "      <td>10.0</td>\n",
       "      <td>15.0</td>\n",
       "      <td>0</td>\n",
       "      <td>0</td>\n",
       "      <td>0</td>\n",
       "      <td>...</td>\n",
       "      <td>0</td>\n",
       "      <td>0</td>\n",
       "      <td>0</td>\n",
       "      <td>0</td>\n",
       "      <td>0</td>\n",
       "      <td>0</td>\n",
       "      <td>0</td>\n",
       "      <td>0</td>\n",
       "      <td>0</td>\n",
       "      <td>0</td>\n",
       "    </tr>\n",
       "    <tr>\n",
       "      <td>2897561</td>\n",
       "      <td>2</td>\n",
       "      <td>0.362</td>\n",
       "      <td>0</td>\n",
       "      <td>78.0</td>\n",
       "      <td>56.0</td>\n",
       "      <td>10.0</td>\n",
       "      <td>15.0</td>\n",
       "      <td>0</td>\n",
       "      <td>0</td>\n",
       "      <td>0</td>\n",
       "      <td>...</td>\n",
       "      <td>0</td>\n",
       "      <td>0</td>\n",
       "      <td>0</td>\n",
       "      <td>0</td>\n",
       "      <td>0</td>\n",
       "      <td>0</td>\n",
       "      <td>0</td>\n",
       "      <td>0</td>\n",
       "      <td>0</td>\n",
       "      <td>0</td>\n",
       "    </tr>\n",
       "    <tr>\n",
       "      <td>2897574</td>\n",
       "      <td>2</td>\n",
       "      <td>0.037</td>\n",
       "      <td>0</td>\n",
       "      <td>73.0</td>\n",
       "      <td>61.0</td>\n",
       "      <td>10.0</td>\n",
       "      <td>17.0</td>\n",
       "      <td>0</td>\n",
       "      <td>0</td>\n",
       "      <td>0</td>\n",
       "      <td>...</td>\n",
       "      <td>0</td>\n",
       "      <td>0</td>\n",
       "      <td>1</td>\n",
       "      <td>0</td>\n",
       "      <td>0</td>\n",
       "      <td>0</td>\n",
       "      <td>0</td>\n",
       "      <td>0</td>\n",
       "      <td>0</td>\n",
       "      <td>0</td>\n",
       "    </tr>\n",
       "    <tr>\n",
       "      <td>2897982</td>\n",
       "      <td>2</td>\n",
       "      <td>0.192</td>\n",
       "      <td>0</td>\n",
       "      <td>74.0</td>\n",
       "      <td>64.0</td>\n",
       "      <td>9.0</td>\n",
       "      <td>7.0</td>\n",
       "      <td>0</td>\n",
       "      <td>0</td>\n",
       "      <td>0</td>\n",
       "      <td>...</td>\n",
       "      <td>0</td>\n",
       "      <td>0</td>\n",
       "      <td>0</td>\n",
       "      <td>0</td>\n",
       "      <td>0</td>\n",
       "      <td>0</td>\n",
       "      <td>0</td>\n",
       "      <td>0</td>\n",
       "      <td>0</td>\n",
       "      <td>0</td>\n",
       "    </tr>\n",
       "  </tbody>\n",
       "</table>\n",
       "<p>8307 rows × 48 columns</p>\n",
       "</div>"
      ],
      "text/plain": [
       "         Severity  Distance(mi)  Side  Temperature  Humidity_pct  \\\n",
       "733             3         0.000     0         71.1          55.0   \n",
       "763             3         0.000     0         73.0          44.0   \n",
       "764             2         0.000     0         77.0          40.0   \n",
       "786             3         0.000     0         71.1          47.0   \n",
       "806             2         0.000     0         61.0          67.0   \n",
       "...           ...           ...   ...          ...           ...   \n",
       "2897551         2         0.305     0         71.0          73.0   \n",
       "2897559         2         0.674     0         78.0          56.0   \n",
       "2897561         2         0.362     0         78.0          56.0   \n",
       "2897574         2         0.037     0         73.0          61.0   \n",
       "2897982         2         0.192     0         74.0          64.0   \n",
       "\n",
       "         Visibility_mi  Windspeed_mph  Amenity  Bump  Crossing  ...  \\\n",
       "733               10.0            4.6        0     0         0  ...   \n",
       "763               10.0           19.6        0     0         0  ...   \n",
       "764               10.0           11.5        0     0         0  ...   \n",
       "786               10.0           24.2        0     0         0  ...   \n",
       "806               10.0           20.7        0     0         0  ...   \n",
       "...                ...            ...      ...   ...       ...  ...   \n",
       "2897551           10.0            7.0        0     0         0  ...   \n",
       "2897559           10.0           15.0        0     0         0  ...   \n",
       "2897561           10.0           15.0        0     0         0  ...   \n",
       "2897574           10.0           17.0        0     0         0  ...   \n",
       "2897982            9.0            7.0        0     0         0  ...   \n",
       "\n",
       "         Mostly Cloudy / Windy  Overcast  Partly Cloudy  \\\n",
       "733                          0         0              1   \n",
       "763                          0         0              1   \n",
       "764                          0         0              1   \n",
       "786                          0         0              1   \n",
       "806                          0         0              1   \n",
       "...                        ...       ...            ...   \n",
       "2897551                      0         0              0   \n",
       "2897559                      0         0              0   \n",
       "2897561                      0         0              0   \n",
       "2897574                      0         0              1   \n",
       "2897982                      0         0              0   \n",
       "\n",
       "         Partly Cloudy / Windy  Patches of Fog  Rain  Rain / Windy  \\\n",
       "733                          0               0     0             0   \n",
       "763                          0               0     0             0   \n",
       "764                          0               0     0             0   \n",
       "786                          0               0     0             0   \n",
       "806                          0               0     0             0   \n",
       "...                        ...             ...   ...           ...   \n",
       "2897551                      0               0     0             0   \n",
       "2897559                      0               0     0             0   \n",
       "2897561                      0               0     0             0   \n",
       "2897574                      0               0     0             0   \n",
       "2897982                      0               0     0             0   \n",
       "\n",
       "         Scattered Clouds  Shallow Fog  Smoke  \n",
       "733                     0            0      0  \n",
       "763                     0            0      0  \n",
       "764                     0            0      0  \n",
       "786                     0            0      0  \n",
       "806                     0            0      0  \n",
       "...                   ...          ...    ...  \n",
       "2897551                 0            0      0  \n",
       "2897559                 0            0      0  \n",
       "2897561                 0            0      0  \n",
       "2897574                 0            0      0  \n",
       "2897982                 0            0      0  \n",
       "\n",
       "[8307 rows x 48 columns]"
      ]
     },
     "execution_count": 22,
     "metadata": {},
     "output_type": "execute_result"
    }
   ],
   "source": [
    "df"
   ]
  },
  {
   "cell_type": "code",
   "execution_count": 23,
   "metadata": {},
   "outputs": [],
   "source": [
    "df.to_csv('data/df_sanfran.csv')"
   ]
  },
  {
   "cell_type": "code",
   "execution_count": 24,
   "metadata": {},
   "outputs": [],
   "source": [
    "y = df.pop('Severity')"
   ]
  },
  {
   "cell_type": "code",
   "execution_count": 25,
   "metadata": {},
   "outputs": [],
   "source": [
    "X = df"
   ]
  },
  {
   "cell_type": "code",
   "execution_count": 26,
   "metadata": {},
   "outputs": [],
   "source": [
    "X_features = df\n",
    "y_features = y"
   ]
  },
  {
   "cell_type": "markdown",
   "metadata": {},
   "source": [
    "---\n",
    "# <center><code>Linear Regression</code></center>\n",
    "---"
   ]
  },
  {
   "cell_type": "code",
   "execution_count": 27,
   "metadata": {},
   "outputs": [],
   "source": [
    "X1 = X\n",
    "y1 = y"
   ]
  },
  {
   "cell_type": "code",
   "execution_count": 28,
   "metadata": {
    "scrolled": false
   },
   "outputs": [
    {
     "name": "stderr",
     "output_type": "stream",
     "text": [
      "/opt/anaconda3/lib/python3.7/site-packages/numpy/core/fromnumeric.py:2495: FutureWarning: Method .ptp is deprecated and will be removed in a future version. Use numpy.ptp instead.\n",
      "  return ptp(axis=axis, out=out, **kwargs)\n"
     ]
    },
    {
     "data": {
      "text/html": [
       "<table class=\"simpletable\">\n",
       "<caption>OLS Regression Results</caption>\n",
       "<tr>\n",
       "  <th>Dep. Variable:</th>        <td>Severity</td>     <th>  R-squared:         </th> <td>   0.089</td> \n",
       "</tr>\n",
       "<tr>\n",
       "  <th>Model:</th>                   <td>OLS</td>       <th>  Adj. R-squared:    </th> <td>   0.085</td> \n",
       "</tr>\n",
       "<tr>\n",
       "  <th>Method:</th>             <td>Least Squares</td>  <th>  F-statistic:       </th> <td>   18.83</td> \n",
       "</tr>\n",
       "<tr>\n",
       "  <th>Date:</th>             <td>Fri, 07 Feb 2020</td> <th>  Prob (F-statistic):</th> <td>7.52e-135</td>\n",
       "</tr>\n",
       "<tr>\n",
       "  <th>Time:</th>                 <td>08:29:19</td>     <th>  Log-Likelihood:    </th> <td> -5696.5</td> \n",
       "</tr>\n",
       "<tr>\n",
       "  <th>No. Observations:</th>      <td>  8307</td>      <th>  AIC:               </th> <td>1.148e+04</td>\n",
       "</tr>\n",
       "<tr>\n",
       "  <th>Df Residuals:</th>          <td>  8263</td>      <th>  BIC:               </th> <td>1.179e+04</td>\n",
       "</tr>\n",
       "<tr>\n",
       "  <th>Df Model:</th>              <td>    43</td>      <th>                     </th>     <td> </td>    \n",
       "</tr>\n",
       "<tr>\n",
       "  <th>Covariance Type:</th>      <td>nonrobust</td>    <th>                     </th>     <td> </td>    \n",
       "</tr>\n",
       "</table>\n",
       "<table class=\"simpletable\">\n",
       "<tr>\n",
       "                <td></td>                  <th>coef</th>     <th>std err</th>      <th>t</th>      <th>P>|t|</th>  <th>[0.025</th>    <th>0.975]</th>  \n",
       "</tr>\n",
       "<tr>\n",
       "  <th>const</th>                        <td>    2.0764</td> <td>    0.088</td> <td>   23.568</td> <td> 0.000</td> <td>    1.904</td> <td>    2.249</td>\n",
       "</tr>\n",
       "<tr>\n",
       "  <th>Distance(mi)</th>                 <td>    0.0003</td> <td>    0.014</td> <td>    0.021</td> <td> 0.983</td> <td>   -0.028</td> <td>    0.029</td>\n",
       "</tr>\n",
       "<tr>\n",
       "  <th>Side</th>                         <td>   -0.1139</td> <td>    0.025</td> <td>   -4.538</td> <td> 0.000</td> <td>   -0.163</td> <td>   -0.065</td>\n",
       "</tr>\n",
       "<tr>\n",
       "  <th>Temperature</th>                  <td>    0.0019</td> <td>    0.001</td> <td>    2.089</td> <td> 0.037</td> <td>    0.000</td> <td>    0.004</td>\n",
       "</tr>\n",
       "<tr>\n",
       "  <th>Humidity_pct</th>                 <td>    0.0021</td> <td>    0.000</td> <td>    4.659</td> <td> 0.000</td> <td>    0.001</td> <td>    0.003</td>\n",
       "</tr>\n",
       "<tr>\n",
       "  <th>Visibility_mi</th>                <td>    0.0085</td> <td>    0.005</td> <td>    1.593</td> <td> 0.111</td> <td>   -0.002</td> <td>    0.019</td>\n",
       "</tr>\n",
       "<tr>\n",
       "  <th>Windspeed_mph</th>                <td>   -0.0025</td> <td>    0.001</td> <td>   -2.673</td> <td> 0.008</td> <td>   -0.004</td> <td>   -0.001</td>\n",
       "</tr>\n",
       "<tr>\n",
       "  <th>Amenity</th>                      <td>   -0.1918</td> <td>    0.033</td> <td>   -5.731</td> <td> 0.000</td> <td>   -0.257</td> <td>   -0.126</td>\n",
       "</tr>\n",
       "<tr>\n",
       "  <th>Bump</th>                         <td>-1.661e-15</td> <td> 5.26e-16</td> <td>   -3.161</td> <td> 0.002</td> <td>-2.69e-15</td> <td>-6.31e-16</td>\n",
       "</tr>\n",
       "<tr>\n",
       "  <th>Crossing</th>                     <td>   -0.1681</td> <td>    0.029</td> <td>   -5.817</td> <td> 0.000</td> <td>   -0.225</td> <td>   -0.111</td>\n",
       "</tr>\n",
       "<tr>\n",
       "  <th>Give_Way</th>                     <td>    0.5042</td> <td>    0.185</td> <td>    2.728</td> <td> 0.006</td> <td>    0.142</td> <td>    0.867</td>\n",
       "</tr>\n",
       "<tr>\n",
       "  <th>Junction</th>                     <td>   -0.1074</td> <td>    0.013</td> <td>   -8.107</td> <td> 0.000</td> <td>   -0.133</td> <td>   -0.081</td>\n",
       "</tr>\n",
       "<tr>\n",
       "  <th>No_Exit</th>                      <td> 1.903e-15</td> <td> 5.51e-16</td> <td>    3.454</td> <td> 0.001</td> <td> 8.23e-16</td> <td> 2.98e-15</td>\n",
       "</tr>\n",
       "<tr>\n",
       "  <th>Railway</th>                      <td>    0.1726</td> <td>    0.037</td> <td>    4.605</td> <td> 0.000</td> <td>    0.099</td> <td>    0.246</td>\n",
       "</tr>\n",
       "<tr>\n",
       "  <th>Roundabout</th>                   <td> 1.111e-15</td> <td> 5.55e-16</td> <td>    2.002</td> <td> 0.045</td> <td> 2.34e-17</td> <td>  2.2e-15</td>\n",
       "</tr>\n",
       "<tr>\n",
       "  <th>Station</th>                      <td>   -0.1538</td> <td>    0.029</td> <td>   -5.224</td> <td> 0.000</td> <td>   -0.212</td> <td>   -0.096</td>\n",
       "</tr>\n",
       "<tr>\n",
       "  <th>Stop</th>                         <td>   -0.2499</td> <td>    0.065</td> <td>   -3.843</td> <td> 0.000</td> <td>   -0.377</td> <td>   -0.122</td>\n",
       "</tr>\n",
       "<tr>\n",
       "  <th>Traffic_Calming</th>              <td>    0.2164</td> <td>    0.217</td> <td>    0.996</td> <td> 0.319</td> <td>   -0.209</td> <td>    0.642</td>\n",
       "</tr>\n",
       "<tr>\n",
       "  <th>Traffic_Signal</th>               <td>   -0.0946</td> <td>    0.026</td> <td>   -3.624</td> <td> 0.000</td> <td>   -0.146</td> <td>   -0.043</td>\n",
       "</tr>\n",
       "<tr>\n",
       "  <th>Sunrise_Sunset</th>               <td>    0.0397</td> <td>    0.028</td> <td>    1.409</td> <td> 0.159</td> <td>   -0.016</td> <td>    0.095</td>\n",
       "</tr>\n",
       "<tr>\n",
       "  <th>Civil_Twilight</th>               <td>   -0.0567</td> <td>    0.037</td> <td>   -1.549</td> <td> 0.121</td> <td>   -0.129</td> <td>    0.015</td>\n",
       "</tr>\n",
       "<tr>\n",
       "  <th>Nautical_Twilight</th>            <td>   -0.0362</td> <td>    0.037</td> <td>   -0.992</td> <td> 0.321</td> <td>   -0.108</td> <td>    0.035</td>\n",
       "</tr>\n",
       "<tr>\n",
       "  <th>Astronomical_Twilight</th>        <td>   -0.0333</td> <td>    0.029</td> <td>   -1.148</td> <td> 0.251</td> <td>   -0.090</td> <td>    0.024</td>\n",
       "</tr>\n",
       "<tr>\n",
       "  <th>day_of_week</th>                  <td>    0.0146</td> <td>    0.003</td> <td>    4.947</td> <td> 0.000</td> <td>    0.009</td> <td>    0.020</td>\n",
       "</tr>\n",
       "<tr>\n",
       "  <th>Clear</th>                        <td>    0.1692</td> <td>    0.039</td> <td>    4.363</td> <td> 0.000</td> <td>    0.093</td> <td>    0.245</td>\n",
       "</tr>\n",
       "<tr>\n",
       "  <th>Cloudy</th>                       <td>   -0.0329</td> <td>    0.043</td> <td>   -0.759</td> <td> 0.448</td> <td>   -0.118</td> <td>    0.052</td>\n",
       "</tr>\n",
       "<tr>\n",
       "  <th>Cloudy / Windy</th>               <td>   -0.0569</td> <td>    0.133</td> <td>   -0.429</td> <td> 0.668</td> <td>   -0.317</td> <td>    0.203</td>\n",
       "</tr>\n",
       "<tr>\n",
       "  <th>Fair</th>                         <td>   -0.0593</td> <td>    0.038</td> <td>   -1.549</td> <td> 0.121</td> <td>   -0.134</td> <td>    0.016</td>\n",
       "</tr>\n",
       "<tr>\n",
       "  <th>Fair / Windy</th>                 <td>   -0.0901</td> <td>    0.060</td> <td>   -1.507</td> <td> 0.132</td> <td>   -0.207</td> <td>    0.027</td>\n",
       "</tr>\n",
       "<tr>\n",
       "  <th>Fog</th>                          <td>   -0.0548</td> <td>    0.100</td> <td>   -0.547</td> <td> 0.584</td> <td>   -0.251</td> <td>    0.142</td>\n",
       "</tr>\n",
       "<tr>\n",
       "  <th>Haze</th>                         <td>    0.1906</td> <td>    0.057</td> <td>    3.370</td> <td> 0.001</td> <td>    0.080</td> <td>    0.301</td>\n",
       "</tr>\n",
       "<tr>\n",
       "  <th>Heavy Rain</th>                   <td>    0.2779</td> <td>    0.084</td> <td>    3.296</td> <td> 0.001</td> <td>    0.113</td> <td>    0.443</td>\n",
       "</tr>\n",
       "<tr>\n",
       "  <th>Light Drizzle</th>                <td>    0.2475</td> <td>    0.143</td> <td>    1.732</td> <td> 0.083</td> <td>   -0.033</td> <td>    0.527</td>\n",
       "</tr>\n",
       "<tr>\n",
       "  <th>Light Rain</th>                   <td>    0.1847</td> <td>    0.039</td> <td>    4.772</td> <td> 0.000</td> <td>    0.109</td> <td>    0.261</td>\n",
       "</tr>\n",
       "<tr>\n",
       "  <th>Light Rain / Windy</th>           <td>    0.5528</td> <td>    0.178</td> <td>    3.112</td> <td> 0.002</td> <td>    0.205</td> <td>    0.901</td>\n",
       "</tr>\n",
       "<tr>\n",
       "  <th>Light Thunderstorms and Rain</th> <td>   -0.3826</td> <td>    0.463</td> <td>   -0.825</td> <td> 0.409</td> <td>   -1.291</td> <td>    0.526</td>\n",
       "</tr>\n",
       "<tr>\n",
       "  <th>Mist</th>                         <td>   -0.1393</td> <td>    0.234</td> <td>   -0.597</td> <td> 0.551</td> <td>   -0.597</td> <td>    0.318</td>\n",
       "</tr>\n",
       "<tr>\n",
       "  <th>Mostly Cloudy</th>                <td>    0.0903</td> <td>    0.036</td> <td>    2.482</td> <td> 0.013</td> <td>    0.019</td> <td>    0.162</td>\n",
       "</tr>\n",
       "<tr>\n",
       "  <th>Mostly Cloudy / Windy</th>        <td>    0.0068</td> <td>    0.096</td> <td>    0.071</td> <td> 0.944</td> <td>   -0.181</td> <td>    0.195</td>\n",
       "</tr>\n",
       "<tr>\n",
       "  <th>Overcast</th>                     <td>    0.1783</td> <td>    0.037</td> <td>    4.795</td> <td> 0.000</td> <td>    0.105</td> <td>    0.251</td>\n",
       "</tr>\n",
       "<tr>\n",
       "  <th>Partly Cloudy</th>                <td>    0.1251</td> <td>    0.036</td> <td>    3.457</td> <td> 0.001</td> <td>    0.054</td> <td>    0.196</td>\n",
       "</tr>\n",
       "<tr>\n",
       "  <th>Partly Cloudy / Windy</th>        <td>    0.1169</td> <td>    0.096</td> <td>    1.217</td> <td> 0.223</td> <td>   -0.071</td> <td>    0.305</td>\n",
       "</tr>\n",
       "<tr>\n",
       "  <th>Patches of Fog</th>               <td>    0.4482</td> <td>    0.269</td> <td>    1.665</td> <td> 0.096</td> <td>   -0.079</td> <td>    0.976</td>\n",
       "</tr>\n",
       "<tr>\n",
       "  <th>Rain</th>                         <td>    0.1684</td> <td>    0.060</td> <td>    2.796</td> <td> 0.005</td> <td>    0.050</td> <td>    0.286</td>\n",
       "</tr>\n",
       "<tr>\n",
       "  <th>Rain / Windy</th>                 <td>   -0.1539</td> <td>    0.192</td> <td>   -0.802</td> <td> 0.423</td> <td>   -0.530</td> <td>    0.222</td>\n",
       "</tr>\n",
       "<tr>\n",
       "  <th>Scattered Clouds</th>             <td>    0.1514</td> <td>    0.039</td> <td>    3.893</td> <td> 0.000</td> <td>    0.075</td> <td>    0.228</td>\n",
       "</tr>\n",
       "<tr>\n",
       "  <th>Shallow Fog</th>                  <td>    0.0828</td> <td>    0.106</td> <td>    0.779</td> <td> 0.436</td> <td>   -0.126</td> <td>    0.291</td>\n",
       "</tr>\n",
       "<tr>\n",
       "  <th>Smoke</th>                        <td>    0.0555</td> <td>    0.151</td> <td>    0.368</td> <td> 0.713</td> <td>   -0.240</td> <td>    0.352</td>\n",
       "</tr>\n",
       "</table>\n",
       "<table class=\"simpletable\">\n",
       "<tr>\n",
       "  <th>Omnibus:</th>       <td>2876.315</td> <th>  Durbin-Watson:     </th> <td>   1.605</td> \n",
       "</tr>\n",
       "<tr>\n",
       "  <th>Prob(Omnibus):</th>  <td> 0.000</td>  <th>  Jarque-Bera (JB):  </th> <td> 634.948</td> \n",
       "</tr>\n",
       "<tr>\n",
       "  <th>Skew:</th>           <td> 0.422</td>  <th>  Prob(JB):          </th> <td>1.33e-138</td>\n",
       "</tr>\n",
       "<tr>\n",
       "  <th>Kurtosis:</th>       <td> 1.940</td>  <th>  Cond. No.          </th> <td>1.01e+16</td> \n",
       "</tr>\n",
       "</table><br/><br/>Warnings:<br/>[1] Standard Errors assume that the covariance matrix of the errors is correctly specified.<br/>[2] The smallest eigenvalue is 7.16e-25. This might indicate that there are<br/>strong multicollinearity problems or that the design matrix is singular."
      ],
      "text/plain": [
       "<class 'statsmodels.iolib.summary.Summary'>\n",
       "\"\"\"\n",
       "                            OLS Regression Results                            \n",
       "==============================================================================\n",
       "Dep. Variable:               Severity   R-squared:                       0.089\n",
       "Model:                            OLS   Adj. R-squared:                  0.085\n",
       "Method:                 Least Squares   F-statistic:                     18.83\n",
       "Date:                Fri, 07 Feb 2020   Prob (F-statistic):          7.52e-135\n",
       "Time:                        08:29:19   Log-Likelihood:                -5696.5\n",
       "No. Observations:                8307   AIC:                         1.148e+04\n",
       "Df Residuals:                    8263   BIC:                         1.179e+04\n",
       "Df Model:                          43                                         \n",
       "Covariance Type:            nonrobust                                         \n",
       "================================================================================================\n",
       "                                   coef    std err          t      P>|t|      [0.025      0.975]\n",
       "------------------------------------------------------------------------------------------------\n",
       "const                            2.0764      0.088     23.568      0.000       1.904       2.249\n",
       "Distance(mi)                     0.0003      0.014      0.021      0.983      -0.028       0.029\n",
       "Side                            -0.1139      0.025     -4.538      0.000      -0.163      -0.065\n",
       "Temperature                      0.0019      0.001      2.089      0.037       0.000       0.004\n",
       "Humidity_pct                     0.0021      0.000      4.659      0.000       0.001       0.003\n",
       "Visibility_mi                    0.0085      0.005      1.593      0.111      -0.002       0.019\n",
       "Windspeed_mph                   -0.0025      0.001     -2.673      0.008      -0.004      -0.001\n",
       "Amenity                         -0.1918      0.033     -5.731      0.000      -0.257      -0.126\n",
       "Bump                         -1.661e-15   5.26e-16     -3.161      0.002   -2.69e-15   -6.31e-16\n",
       "Crossing                        -0.1681      0.029     -5.817      0.000      -0.225      -0.111\n",
       "Give_Way                         0.5042      0.185      2.728      0.006       0.142       0.867\n",
       "Junction                        -0.1074      0.013     -8.107      0.000      -0.133      -0.081\n",
       "No_Exit                       1.903e-15   5.51e-16      3.454      0.001    8.23e-16    2.98e-15\n",
       "Railway                          0.1726      0.037      4.605      0.000       0.099       0.246\n",
       "Roundabout                    1.111e-15   5.55e-16      2.002      0.045    2.34e-17     2.2e-15\n",
       "Station                         -0.1538      0.029     -5.224      0.000      -0.212      -0.096\n",
       "Stop                            -0.2499      0.065     -3.843      0.000      -0.377      -0.122\n",
       "Traffic_Calming                  0.2164      0.217      0.996      0.319      -0.209       0.642\n",
       "Traffic_Signal                  -0.0946      0.026     -3.624      0.000      -0.146      -0.043\n",
       "Sunrise_Sunset                   0.0397      0.028      1.409      0.159      -0.016       0.095\n",
       "Civil_Twilight                  -0.0567      0.037     -1.549      0.121      -0.129       0.015\n",
       "Nautical_Twilight               -0.0362      0.037     -0.992      0.321      -0.108       0.035\n",
       "Astronomical_Twilight           -0.0333      0.029     -1.148      0.251      -0.090       0.024\n",
       "day_of_week                      0.0146      0.003      4.947      0.000       0.009       0.020\n",
       "Clear                            0.1692      0.039      4.363      0.000       0.093       0.245\n",
       "Cloudy                          -0.0329      0.043     -0.759      0.448      -0.118       0.052\n",
       "Cloudy / Windy                  -0.0569      0.133     -0.429      0.668      -0.317       0.203\n",
       "Fair                            -0.0593      0.038     -1.549      0.121      -0.134       0.016\n",
       "Fair / Windy                    -0.0901      0.060     -1.507      0.132      -0.207       0.027\n",
       "Fog                             -0.0548      0.100     -0.547      0.584      -0.251       0.142\n",
       "Haze                             0.1906      0.057      3.370      0.001       0.080       0.301\n",
       "Heavy Rain                       0.2779      0.084      3.296      0.001       0.113       0.443\n",
       "Light Drizzle                    0.2475      0.143      1.732      0.083      -0.033       0.527\n",
       "Light Rain                       0.1847      0.039      4.772      0.000       0.109       0.261\n",
       "Light Rain / Windy               0.5528      0.178      3.112      0.002       0.205       0.901\n",
       "Light Thunderstorms and Rain    -0.3826      0.463     -0.825      0.409      -1.291       0.526\n",
       "Mist                            -0.1393      0.234     -0.597      0.551      -0.597       0.318\n",
       "Mostly Cloudy                    0.0903      0.036      2.482      0.013       0.019       0.162\n",
       "Mostly Cloudy / Windy            0.0068      0.096      0.071      0.944      -0.181       0.195\n",
       "Overcast                         0.1783      0.037      4.795      0.000       0.105       0.251\n",
       "Partly Cloudy                    0.1251      0.036      3.457      0.001       0.054       0.196\n",
       "Partly Cloudy / Windy            0.1169      0.096      1.217      0.223      -0.071       0.305\n",
       "Patches of Fog                   0.4482      0.269      1.665      0.096      -0.079       0.976\n",
       "Rain                             0.1684      0.060      2.796      0.005       0.050       0.286\n",
       "Rain / Windy                    -0.1539      0.192     -0.802      0.423      -0.530       0.222\n",
       "Scattered Clouds                 0.1514      0.039      3.893      0.000       0.075       0.228\n",
       "Shallow Fog                      0.0828      0.106      0.779      0.436      -0.126       0.291\n",
       "Smoke                            0.0555      0.151      0.368      0.713      -0.240       0.352\n",
       "==============================================================================\n",
       "Omnibus:                     2876.315   Durbin-Watson:                   1.605\n",
       "Prob(Omnibus):                  0.000   Jarque-Bera (JB):              634.948\n",
       "Skew:                           0.422   Prob(JB):                    1.33e-138\n",
       "Kurtosis:                       1.940   Cond. No.                     1.01e+16\n",
       "==============================================================================\n",
       "\n",
       "Warnings:\n",
       "[1] Standard Errors assume that the covariance matrix of the errors is correctly specified.\n",
       "[2] The smallest eigenvalue is 7.16e-25. This might indicate that there are\n",
       "strong multicollinearity problems or that the design matrix is singular.\n",
       "\"\"\""
      ]
     },
     "execution_count": 28,
     "metadata": {},
     "output_type": "execute_result"
    }
   ],
   "source": [
    "X1 = sm.add_constant(X1)\n",
    "lr_model = sm.OLS(y1, X1)\n",
    "lr_result = lr_model.fit()\n",
    "lr_result.summary()"
   ]
  },
  {
   "cell_type": "code",
   "execution_count": 29,
   "metadata": {},
   "outputs": [
    {
     "data": {
      "text/plain": [
       "const                           2.076370e+00\n",
       "Distance(mi)                    3.067656e-04\n",
       "Side                           -1.139443e-01\n",
       "Temperature                     1.866965e-03\n",
       "Humidity_pct                    2.137939e-03\n",
       "Visibility_mi                   8.478504e-03\n",
       "Windspeed_mph                  -2.546218e-03\n",
       "Amenity                        -1.918484e-01\n",
       "Bump                           -1.661162e-15\n",
       "Crossing                       -1.680834e-01\n",
       "Give_Way                        5.042413e-01\n",
       "Junction                       -1.073603e-01\n",
       "No_Exit                         1.902859e-15\n",
       "Railway                         1.726175e-01\n",
       "Roundabout                      1.111173e-15\n",
       "Station                        -1.537999e-01\n",
       "Stop                           -2.499282e-01\n",
       "Traffic_Calming                 2.164165e-01\n",
       "Traffic_Signal                 -9.464381e-02\n",
       "Sunrise_Sunset                  3.972468e-02\n",
       "Civil_Twilight                 -5.674476e-02\n",
       "Nautical_Twilight              -3.624152e-02\n",
       "Astronomical_Twilight          -3.326651e-02\n",
       "day_of_week                     1.457804e-02\n",
       "Clear                           1.692200e-01\n",
       "Cloudy                         -3.288456e-02\n",
       "Cloudy / Windy                 -5.693982e-02\n",
       "Fair                           -5.930393e-02\n",
       "Fair / Windy                   -9.008833e-02\n",
       "Fog                            -5.483075e-02\n",
       "Haze                            1.905606e-01\n",
       "Heavy Rain                      2.779374e-01\n",
       "Light Drizzle                   2.474601e-01\n",
       "Light Rain                      1.847330e-01\n",
       "Light Rain / Windy              5.528087e-01\n",
       "Light Thunderstorms and Rain   -3.825893e-01\n",
       "Mist                           -1.393071e-01\n",
       "Mostly Cloudy                   9.028766e-02\n",
       "Mostly Cloudy / Windy           6.765695e-03\n",
       "Overcast                        1.782888e-01\n",
       "Partly Cloudy                   1.250617e-01\n",
       "Partly Cloudy / Windy           1.168724e-01\n",
       "Patches of Fog                  4.481548e-01\n",
       "Rain                            1.684000e-01\n",
       "Rain / Windy                   -1.539354e-01\n",
       "Scattered Clouds                1.514215e-01\n",
       "Shallow Fog                     8.275718e-02\n",
       "Smoke                           5.551985e-02\n",
       "dtype: float64"
      ]
     },
     "execution_count": 29,
     "metadata": {},
     "output_type": "execute_result"
    }
   ],
   "source": [
    "lr_result.params"
   ]
  },
  {
   "cell_type": "code",
   "execution_count": 30,
   "metadata": {},
   "outputs": [
    {
     "data": {
      "text/plain": [
       "733    2.452882\n",
       "763    2.394719\n",
       "764    2.414259\n",
       "786    2.385873\n",
       "806    2.418687\n",
       "dtype: float64"
      ]
     },
     "execution_count": 30,
     "metadata": {},
     "output_type": "execute_result"
    }
   ],
   "source": [
    "lr_result.fittedvalues[0:5]"
   ]
  },
  {
   "cell_type": "markdown",
   "metadata": {},
   "source": [
    "## p-value: 2.270459470776888e-10 | <code>heteroscedastic</code>"
   ]
  },
  {
   "cell_type": "code",
   "execution_count": 31,
   "metadata": {},
   "outputs": [
    {
     "name": "stdout",
     "output_type": "stream",
     "text": [
      "2.270459470776888e-10\n"
     ]
    }
   ],
   "source": [
    "f_statistic, p_value, _ = sm.stats.diagnostic.het_goldfeldquandt(y1, X1, idx=1, alternative='two-sided')\n",
    "print(p_value)"
   ]
  },
  {
   "cell_type": "markdown",
   "metadata": {},
   "source": [
    "---\n",
    "# <center><code>Random Forest Regression</code></center>\n",
    "---"
   ]
  },
  {
   "cell_type": "markdown",
   "metadata": {},
   "source": [
    "## Preprocessing"
   ]
  },
  {
   "cell_type": "code",
   "execution_count": 32,
   "metadata": {},
   "outputs": [],
   "source": [
    "X = np.asarray(df)"
   ]
  },
  {
   "cell_type": "code",
   "execution_count": 33,
   "metadata": {},
   "outputs": [],
   "source": [
    "y = np.asarray(y)"
   ]
  },
  {
   "cell_type": "code",
   "execution_count": 34,
   "metadata": {},
   "outputs": [],
   "source": [
    "X = preprocessing.StandardScaler().fit(X).transform(X)"
   ]
  },
  {
   "cell_type": "markdown",
   "metadata": {},
   "source": [
    "## Train-Test-Split"
   ]
  },
  {
   "cell_type": "code",
   "execution_count": 35,
   "metadata": {},
   "outputs": [],
   "source": [
    "# Not arrays. Splitting for 'feature_importances_'\n",
    "Xf_train, Xf_test, yf_train, yf_test = train_test_split(X_features, y_features, test_size=0.2, random_state=4)"
   ]
  },
  {
   "cell_type": "code",
   "execution_count": 36,
   "metadata": {},
   "outputs": [],
   "source": [
    "X_train, X_test, y_train, y_test = train_test_split(X, y, test_size=0.2, random_state=4)"
   ]
  },
  {
   "cell_type": "code",
   "execution_count": 37,
   "metadata": {},
   "outputs": [
    {
     "data": {
      "text/plain": [
       "RandomForestRegressor(bootstrap=True, criterion='mse', max_depth=None,\n",
       "                      max_features='auto', max_leaf_nodes=None,\n",
       "                      min_impurity_decrease=0.0, min_impurity_split=None,\n",
       "                      min_samples_leaf=1, min_samples_split=2,\n",
       "                      min_weight_fraction_leaf=0.0, n_estimators='warn',\n",
       "                      n_jobs=None, oob_score=False, random_state=None,\n",
       "                      verbose=0, warm_start=False)"
      ]
     },
     "execution_count": 37,
     "metadata": {},
     "output_type": "execute_result"
    }
   ],
   "source": [
    "rf = RandomForestRegressor()\n",
    "rf"
   ]
  },
  {
   "cell_type": "code",
   "execution_count": 38,
   "metadata": {},
   "outputs": [],
   "source": [
    "parameters = [{'n_estimators': [10,30,100],\n",
    "              'max_depth': [10,15,32]}]"
   ]
  },
  {
   "cell_type": "code",
   "execution_count": 39,
   "metadata": {},
   "outputs": [
    {
     "data": {
      "text/plain": [
       "GridSearchCV(cv='warn', error_score='raise-deprecating',\n",
       "             estimator=RandomForestRegressor(bootstrap=True, criterion='mse',\n",
       "                                             max_depth=None,\n",
       "                                             max_features='auto',\n",
       "                                             max_leaf_nodes=None,\n",
       "                                             min_impurity_decrease=0.0,\n",
       "                                             min_impurity_split=None,\n",
       "                                             min_samples_leaf=1,\n",
       "                                             min_samples_split=2,\n",
       "                                             min_weight_fraction_leaf=0.0,\n",
       "                                             n_estimators='warn', n_jobs=None,\n",
       "                                             oob_score=False, random_state=None,\n",
       "                                             verbose=0, warm_start=False),\n",
       "             iid='warn', n_jobs=None,\n",
       "             param_grid=[{'max_depth': [10, 15, 32],\n",
       "                          'n_estimators': [10, 30, 100]}],\n",
       "             pre_dispatch='2*n_jobs', refit=True, return_train_score=False,\n",
       "             scoring=None, verbose=0)"
      ]
     },
     "execution_count": 39,
     "metadata": {},
     "output_type": "execute_result"
    }
   ],
   "source": [
    "grid = GridSearchCV(rf, parameters)\n",
    "grid"
   ]
  },
  {
   "cell_type": "code",
   "execution_count": 40,
   "metadata": {},
   "outputs": [],
   "source": [
    "grid_feat = GridSearchCV(rf, parameters)"
   ]
  },
  {
   "cell_type": "code",
   "execution_count": 41,
   "metadata": {},
   "outputs": [
    {
     "name": "stderr",
     "output_type": "stream",
     "text": [
      "/opt/anaconda3/lib/python3.7/site-packages/sklearn/model_selection/_split.py:1978: FutureWarning: The default value of cv will change from 3 to 5 in version 0.22. Specify it explicitly to silence this warning.\n",
      "  warnings.warn(CV_WARNING, FutureWarning)\n"
     ]
    },
    {
     "data": {
      "text/plain": [
       "GridSearchCV(cv='warn', error_score='raise-deprecating',\n",
       "             estimator=RandomForestRegressor(bootstrap=True, criterion='mse',\n",
       "                                             max_depth=None,\n",
       "                                             max_features='auto',\n",
       "                                             max_leaf_nodes=None,\n",
       "                                             min_impurity_decrease=0.0,\n",
       "                                             min_impurity_split=None,\n",
       "                                             min_samples_leaf=1,\n",
       "                                             min_samples_split=2,\n",
       "                                             min_weight_fraction_leaf=0.0,\n",
       "                                             n_estimators='warn', n_jobs=None,\n",
       "                                             oob_score=False, random_state=None,\n",
       "                                             verbose=0, warm_start=False),\n",
       "             iid='warn', n_jobs=None,\n",
       "             param_grid=[{'max_depth': [10, 15, 32],\n",
       "                          'n_estimators': [10, 30, 100]}],\n",
       "             pre_dispatch='2*n_jobs', refit=True, return_train_score=False,\n",
       "             scoring=None, verbose=0)"
      ]
     },
     "execution_count": 41,
     "metadata": {},
     "output_type": "execute_result"
    }
   ],
   "source": [
    "# Feature importances\n",
    "grid_feat.fit(Xf_train, yf_train)"
   ]
  },
  {
   "cell_type": "code",
   "execution_count": 42,
   "metadata": {
    "scrolled": true
   },
   "outputs": [
    {
     "name": "stderr",
     "output_type": "stream",
     "text": [
      "/opt/anaconda3/lib/python3.7/site-packages/sklearn/model_selection/_split.py:1978: FutureWarning: The default value of cv will change from 3 to 5 in version 0.22. Specify it explicitly to silence this warning.\n",
      "  warnings.warn(CV_WARNING, FutureWarning)\n"
     ]
    },
    {
     "data": {
      "text/plain": [
       "GridSearchCV(cv='warn', error_score='raise-deprecating',\n",
       "             estimator=RandomForestRegressor(bootstrap=True, criterion='mse',\n",
       "                                             max_depth=None,\n",
       "                                             max_features='auto',\n",
       "                                             max_leaf_nodes=None,\n",
       "                                             min_impurity_decrease=0.0,\n",
       "                                             min_impurity_split=None,\n",
       "                                             min_samples_leaf=1,\n",
       "                                             min_samples_split=2,\n",
       "                                             min_weight_fraction_leaf=0.0,\n",
       "                                             n_estimators='warn', n_jobs=None,\n",
       "                                             oob_score=False, random_state=None,\n",
       "                                             verbose=0, warm_start=False),\n",
       "             iid='warn', n_jobs=None,\n",
       "             param_grid=[{'max_depth': [10, 15, 32],\n",
       "                          'n_estimators': [10, 30, 100]}],\n",
       "             pre_dispatch='2*n_jobs', refit=True, return_train_score=False,\n",
       "             scoring=None, verbose=0)"
      ]
     },
     "execution_count": 42,
     "metadata": {},
     "output_type": "execute_result"
    }
   ],
   "source": [
    "grid.fit(X_train, y_train)"
   ]
  },
  {
   "cell_type": "code",
   "execution_count": 43,
   "metadata": {},
   "outputs": [
    {
     "data": {
      "text/plain": [
       "RandomForestRegressor(bootstrap=True, criterion='mse', max_depth=10,\n",
       "                      max_features='auto', max_leaf_nodes=None,\n",
       "                      min_impurity_decrease=0.0, min_impurity_split=None,\n",
       "                      min_samples_leaf=1, min_samples_split=2,\n",
       "                      min_weight_fraction_leaf=0.0, n_estimators=100,\n",
       "                      n_jobs=None, oob_score=False, random_state=None,\n",
       "                      verbose=0, warm_start=False)"
      ]
     },
     "execution_count": 43,
     "metadata": {},
     "output_type": "execute_result"
    }
   ],
   "source": [
    "# For feature importances\n",
    "RF_best_feat = grid_feat.best_estimator_\n",
    "RF_best_feat"
   ]
  },
  {
   "cell_type": "code",
   "execution_count": 44,
   "metadata": {},
   "outputs": [
    {
     "data": {
      "text/plain": [
       "RandomForestRegressor(bootstrap=True, criterion='mse', max_depth=10,\n",
       "                      max_features='auto', max_leaf_nodes=None,\n",
       "                      min_impurity_decrease=0.0, min_impurity_split=None,\n",
       "                      min_samples_leaf=1, min_samples_split=2,\n",
       "                      min_weight_fraction_leaf=0.0, n_estimators=100,\n",
       "                      n_jobs=None, oob_score=False, random_state=None,\n",
       "                      verbose=0, warm_start=False)"
      ]
     },
     "execution_count": 44,
     "metadata": {},
     "output_type": "execute_result"
    }
   ],
   "source": [
    "BestRF = grid.best_estimator_\n",
    "BestRF"
   ]
  },
  {
   "cell_type": "markdown",
   "metadata": {},
   "source": [
    "## Grid Search R^2: <code>0.17808764155637336</code>"
   ]
  },
  {
   "cell_type": "code",
   "execution_count": 45,
   "metadata": {},
   "outputs": [
    {
     "data": {
      "text/plain": [
       "0.17932018387508342"
      ]
     },
     "execution_count": 45,
     "metadata": {},
     "output_type": "execute_result"
    }
   ],
   "source": [
    "BestRF.score(X_test, y_test)"
   ]
  },
  {
   "cell_type": "code",
   "execution_count": 46,
   "metadata": {},
   "outputs": [
    {
     "data": {
      "text/plain": [
       "0.17665023805668942"
      ]
     },
     "execution_count": 46,
     "metadata": {},
     "output_type": "execute_result"
    }
   ],
   "source": [
    "# Feature importances\n",
    "RF_best_feat.score(Xf_test, yf_test)"
   ]
  },
  {
   "cell_type": "code",
   "execution_count": 47,
   "metadata": {},
   "outputs": [],
   "source": [
    "testrf = RandomForestRegressor(bootstrap=True, criterion='mse', max_depth=10,\n",
    "                      max_features='auto', max_leaf_nodes=None,\n",
    "                      min_impurity_decrease=0.0, min_impurity_split=None,\n",
    "                      min_samples_leaf=1, min_samples_split=2,\n",
    "                      min_weight_fraction_leaf=0.0, n_estimators=100,\n",
    "                      n_jobs=None, oob_score=False, random_state=None,\n",
    "                      verbose=0, warm_start=False)"
   ]
  },
  {
   "cell_type": "code",
   "execution_count": 48,
   "metadata": {
    "scrolled": true
   },
   "outputs": [
    {
     "data": {
      "text/plain": [
       "RandomForestRegressor(bootstrap=True, criterion='mse', max_depth=10,\n",
       "                      max_features='auto', max_leaf_nodes=None,\n",
       "                      min_impurity_decrease=0.0, min_impurity_split=None,\n",
       "                      min_samples_leaf=1, min_samples_split=2,\n",
       "                      min_weight_fraction_leaf=0.0, n_estimators=100,\n",
       "                      n_jobs=None, oob_score=False, random_state=None,\n",
       "                      verbose=0, warm_start=False)"
      ]
     },
     "execution_count": 48,
     "metadata": {},
     "output_type": "execute_result"
    }
   ],
   "source": [
    "testrf.fit(X_train, y_train)"
   ]
  },
  {
   "cell_type": "code",
   "execution_count": 49,
   "metadata": {},
   "outputs": [],
   "source": [
    "yhat = testrf.predict(X_test)"
   ]
  },
  {
   "cell_type": "markdown",
   "metadata": {},
   "source": [
    "## Random Forest R^2: <code>0.17945677024559692</code>"
   ]
  },
  {
   "cell_type": "code",
   "execution_count": 50,
   "metadata": {
    "scrolled": true
   },
   "outputs": [
    {
     "data": {
      "text/plain": [
       "0.1756678620282911"
      ]
     },
     "execution_count": 50,
     "metadata": {},
     "output_type": "execute_result"
    }
   ],
   "source": [
    "testrf.score(X_test, y_test)"
   ]
  },
  {
   "cell_type": "code",
   "execution_count": 51,
   "metadata": {},
   "outputs": [
    {
     "data": {
      "text/plain": [
       "0.17665023805668942"
      ]
     },
     "execution_count": 51,
     "metadata": {},
     "output_type": "execute_result"
    }
   ],
   "source": [
    "RF_best_feat.score(Xf_test, yf_test)"
   ]
  },
  {
   "cell_type": "markdown",
   "metadata": {},
   "source": [
    "# MSE RandomForestRegressor: 0.2093141614501258"
   ]
  },
  {
   "cell_type": "code",
   "execution_count": 103,
   "metadata": {},
   "outputs": [
    {
     "data": {
      "text/plain": [
       "0.2093141614501258"
      ]
     },
     "execution_count": 103,
     "metadata": {},
     "output_type": "execute_result"
    }
   ],
   "source": [
    "mse_for = mean_squared_error(yf_test, RF_best_feat.predict(Xf_test))\n",
    "mse_for"
   ]
  },
  {
   "cell_type": "code",
   "execution_count": 52,
   "metadata": {},
   "outputs": [],
   "source": [
    "feat_scores = pd.DataFrame({'Fraction of Samples Affected': RF_best_feat.feature_importances_}, \n",
    "                           index=X_features.columns)"
   ]
  },
  {
   "cell_type": "code",
   "execution_count": 53,
   "metadata": {},
   "outputs": [],
   "source": [
    "feat = feat_scores.reset_index()"
   ]
  },
  {
   "cell_type": "code",
   "execution_count": 54,
   "metadata": {},
   "outputs": [],
   "source": [
    "feat.sort_values(by='Fraction of Samples Affected', ascending=False, inplace=True)"
   ]
  },
  {
   "cell_type": "code",
   "execution_count": 55,
   "metadata": {},
   "outputs": [
    {
     "data": {
      "image/png": "[encoded data removed]",
      "text/plain": [
       "<Figure size 864x1080 with 1 Axes>"
      ]
     },
     "metadata": {},
     "output_type": "display_data"
    }
   ],
   "source": [
    "sns.set(style='whitegrid',\n",
    "       font_scale=1.5)\n",
    "\n",
    "fig, ax = plt.subplots(figsize=(12,15))\n",
    "\n",
    "ax = sns.barplot(x='Fraction of Samples Affected',\n",
    "           y='index',\n",
    "           data=feat,\n",
    "           label='Feature Importances',\n",
    "           palette='Blues_r')\n",
    "ax.set_title('Frequency Importances',\n",
    "            fontsize=19)\n",
    "ax.set_xlim(0.000,0.2000)\n",
    "plt.xlabel('Fraction of Samples Affected',\n",
    "          fontsize=19)\n",
    "plt.ylabel('Features',\n",
    "          fontsize=19)\n",
    "plt.tight_layout()\n",
    "plt.savefig('img/featureimp.jpg')"
   ]
  },
  {
   "cell_type": "markdown",
   "metadata": {},
   "source": [
    "---\n",
    "\n",
    "# <center><code>Gradient Boosted Regression</code></center>\n",
    "\n",
    "---"
   ]
  },
  {
   "cell_type": "code",
   "execution_count": 58,
   "metadata": {},
   "outputs": [
    {
     "data": {
      "text/html": [
       "<div>\n",
       "<style scoped>\n",
       "    .dataframe tbody tr th:only-of-type {\n",
       "        vertical-align: middle;\n",
       "    }\n",
       "\n",
       "    .dataframe tbody tr th {\n",
       "        vertical-align: top;\n",
       "    }\n",
       "\n",
       "    .dataframe thead th {\n",
       "        text-align: right;\n",
       "    }\n",
       "</style>\n",
       "<table border=\"1\" class=\"dataframe\">\n",
       "  <thead>\n",
       "    <tr style=\"text-align: right;\">\n",
       "      <th></th>\n",
       "      <th>Unnamed: 0</th>\n",
       "      <th>Severity</th>\n",
       "      <th>Distance(mi)</th>\n",
       "      <th>Side</th>\n",
       "      <th>Temperature</th>\n",
       "      <th>Humidity_pct</th>\n",
       "      <th>Visibility_mi</th>\n",
       "      <th>Windspeed_mph</th>\n",
       "      <th>Amenity</th>\n",
       "      <th>Bump</th>\n",
       "      <th>...</th>\n",
       "      <th>Mostly Cloudy / Windy</th>\n",
       "      <th>Overcast</th>\n",
       "      <th>Partly Cloudy</th>\n",
       "      <th>Partly Cloudy / Windy</th>\n",
       "      <th>Patches of Fog</th>\n",
       "      <th>Rain</th>\n",
       "      <th>Rain / Windy</th>\n",
       "      <th>Scattered Clouds</th>\n",
       "      <th>Shallow Fog</th>\n",
       "      <th>Smoke</th>\n",
       "    </tr>\n",
       "  </thead>\n",
       "  <tbody>\n",
       "    <tr>\n",
       "      <td>0</td>\n",
       "      <td>733</td>\n",
       "      <td>3</td>\n",
       "      <td>0.000</td>\n",
       "      <td>0</td>\n",
       "      <td>71.1</td>\n",
       "      <td>55.0</td>\n",
       "      <td>10.0</td>\n",
       "      <td>4.6</td>\n",
       "      <td>0</td>\n",
       "      <td>0</td>\n",
       "      <td>...</td>\n",
       "      <td>0</td>\n",
       "      <td>0</td>\n",
       "      <td>1</td>\n",
       "      <td>0</td>\n",
       "      <td>0</td>\n",
       "      <td>0</td>\n",
       "      <td>0</td>\n",
       "      <td>0</td>\n",
       "      <td>0</td>\n",
       "      <td>0</td>\n",
       "    </tr>\n",
       "    <tr>\n",
       "      <td>1</td>\n",
       "      <td>763</td>\n",
       "      <td>3</td>\n",
       "      <td>0.000</td>\n",
       "      <td>0</td>\n",
       "      <td>73.0</td>\n",
       "      <td>44.0</td>\n",
       "      <td>10.0</td>\n",
       "      <td>19.6</td>\n",
       "      <td>0</td>\n",
       "      <td>0</td>\n",
       "      <td>...</td>\n",
       "      <td>0</td>\n",
       "      <td>0</td>\n",
       "      <td>1</td>\n",
       "      <td>0</td>\n",
       "      <td>0</td>\n",
       "      <td>0</td>\n",
       "      <td>0</td>\n",
       "      <td>0</td>\n",
       "      <td>0</td>\n",
       "      <td>0</td>\n",
       "    </tr>\n",
       "    <tr>\n",
       "      <td>2</td>\n",
       "      <td>764</td>\n",
       "      <td>2</td>\n",
       "      <td>0.000</td>\n",
       "      <td>0</td>\n",
       "      <td>77.0</td>\n",
       "      <td>40.0</td>\n",
       "      <td>10.0</td>\n",
       "      <td>11.5</td>\n",
       "      <td>0</td>\n",
       "      <td>0</td>\n",
       "      <td>...</td>\n",
       "      <td>0</td>\n",
       "      <td>0</td>\n",
       "      <td>1</td>\n",
       "      <td>0</td>\n",
       "      <td>0</td>\n",
       "      <td>0</td>\n",
       "      <td>0</td>\n",
       "      <td>0</td>\n",
       "      <td>0</td>\n",
       "      <td>0</td>\n",
       "    </tr>\n",
       "    <tr>\n",
       "      <td>3</td>\n",
       "      <td>786</td>\n",
       "      <td>3</td>\n",
       "      <td>0.000</td>\n",
       "      <td>0</td>\n",
       "      <td>71.1</td>\n",
       "      <td>47.0</td>\n",
       "      <td>10.0</td>\n",
       "      <td>24.2</td>\n",
       "      <td>0</td>\n",
       "      <td>0</td>\n",
       "      <td>...</td>\n",
       "      <td>0</td>\n",
       "      <td>0</td>\n",
       "      <td>1</td>\n",
       "      <td>0</td>\n",
       "      <td>0</td>\n",
       "      <td>0</td>\n",
       "      <td>0</td>\n",
       "      <td>0</td>\n",
       "      <td>0</td>\n",
       "      <td>0</td>\n",
       "    </tr>\n",
       "    <tr>\n",
       "      <td>4</td>\n",
       "      <td>806</td>\n",
       "      <td>2</td>\n",
       "      <td>0.000</td>\n",
       "      <td>0</td>\n",
       "      <td>61.0</td>\n",
       "      <td>67.0</td>\n",
       "      <td>10.0</td>\n",
       "      <td>20.7</td>\n",
       "      <td>0</td>\n",
       "      <td>0</td>\n",
       "      <td>...</td>\n",
       "      <td>0</td>\n",
       "      <td>0</td>\n",
       "      <td>1</td>\n",
       "      <td>0</td>\n",
       "      <td>0</td>\n",
       "      <td>0</td>\n",
       "      <td>0</td>\n",
       "      <td>0</td>\n",
       "      <td>0</td>\n",
       "      <td>0</td>\n",
       "    </tr>\n",
       "    <tr>\n",
       "      <td>...</td>\n",
       "      <td>...</td>\n",
       "      <td>...</td>\n",
       "      <td>...</td>\n",
       "      <td>...</td>\n",
       "      <td>...</td>\n",
       "      <td>...</td>\n",
       "      <td>...</td>\n",
       "      <td>...</td>\n",
       "      <td>...</td>\n",
       "      <td>...</td>\n",
       "      <td>...</td>\n",
       "      <td>...</td>\n",
       "      <td>...</td>\n",
       "      <td>...</td>\n",
       "      <td>...</td>\n",
       "      <td>...</td>\n",
       "      <td>...</td>\n",
       "      <td>...</td>\n",
       "      <td>...</td>\n",
       "      <td>...</td>\n",
       "      <td>...</td>\n",
       "    </tr>\n",
       "    <tr>\n",
       "      <td>8302</td>\n",
       "      <td>2897551</td>\n",
       "      <td>2</td>\n",
       "      <td>0.305</td>\n",
       "      <td>0</td>\n",
       "      <td>71.0</td>\n",
       "      <td>73.0</td>\n",
       "      <td>10.0</td>\n",
       "      <td>7.0</td>\n",
       "      <td>0</td>\n",
       "      <td>0</td>\n",
       "      <td>...</td>\n",
       "      <td>0</td>\n",
       "      <td>0</td>\n",
       "      <td>0</td>\n",
       "      <td>0</td>\n",
       "      <td>0</td>\n",
       "      <td>0</td>\n",
       "      <td>0</td>\n",
       "      <td>0</td>\n",
       "      <td>0</td>\n",
       "      <td>0</td>\n",
       "    </tr>\n",
       "    <tr>\n",
       "      <td>8303</td>\n",
       "      <td>2897559</td>\n",
       "      <td>2</td>\n",
       "      <td>0.674</td>\n",
       "      <td>0</td>\n",
       "      <td>78.0</td>\n",
       "      <td>56.0</td>\n",
       "      <td>10.0</td>\n",
       "      <td>15.0</td>\n",
       "      <td>0</td>\n",
       "      <td>0</td>\n",
       "      <td>...</td>\n",
       "      <td>0</td>\n",
       "      <td>0</td>\n",
       "      <td>0</td>\n",
       "      <td>0</td>\n",
       "      <td>0</td>\n",
       "      <td>0</td>\n",
       "      <td>0</td>\n",
       "      <td>0</td>\n",
       "      <td>0</td>\n",
       "      <td>0</td>\n",
       "    </tr>\n",
       "    <tr>\n",
       "      <td>8304</td>\n",
       "      <td>2897561</td>\n",
       "      <td>2</td>\n",
       "      <td>0.362</td>\n",
       "      <td>0</td>\n",
       "      <td>78.0</td>\n",
       "      <td>56.0</td>\n",
       "      <td>10.0</td>\n",
       "      <td>15.0</td>\n",
       "      <td>0</td>\n",
       "      <td>0</td>\n",
       "      <td>...</td>\n",
       "      <td>0</td>\n",
       "      <td>0</td>\n",
       "      <td>0</td>\n",
       "      <td>0</td>\n",
       "      <td>0</td>\n",
       "      <td>0</td>\n",
       "      <td>0</td>\n",
       "      <td>0</td>\n",
       "      <td>0</td>\n",
       "      <td>0</td>\n",
       "    </tr>\n",
       "    <tr>\n",
       "      <td>8305</td>\n",
       "      <td>2897574</td>\n",
       "      <td>2</td>\n",
       "      <td>0.037</td>\n",
       "      <td>0</td>\n",
       "      <td>73.0</td>\n",
       "      <td>61.0</td>\n",
       "      <td>10.0</td>\n",
       "      <td>17.0</td>\n",
       "      <td>0</td>\n",
       "      <td>0</td>\n",
       "      <td>...</td>\n",
       "      <td>0</td>\n",
       "      <td>0</td>\n",
       "      <td>1</td>\n",
       "      <td>0</td>\n",
       "      <td>0</td>\n",
       "      <td>0</td>\n",
       "      <td>0</td>\n",
       "      <td>0</td>\n",
       "      <td>0</td>\n",
       "      <td>0</td>\n",
       "    </tr>\n",
       "    <tr>\n",
       "      <td>8306</td>\n",
       "      <td>2897982</td>\n",
       "      <td>2</td>\n",
       "      <td>0.192</td>\n",
       "      <td>0</td>\n",
       "      <td>74.0</td>\n",
       "      <td>64.0</td>\n",
       "      <td>9.0</td>\n",
       "      <td>7.0</td>\n",
       "      <td>0</td>\n",
       "      <td>0</td>\n",
       "      <td>...</td>\n",
       "      <td>0</td>\n",
       "      <td>0</td>\n",
       "      <td>0</td>\n",
       "      <td>0</td>\n",
       "      <td>0</td>\n",
       "      <td>0</td>\n",
       "      <td>0</td>\n",
       "      <td>0</td>\n",
       "      <td>0</td>\n",
       "      <td>0</td>\n",
       "    </tr>\n",
       "  </tbody>\n",
       "</table>\n",
       "<p>8307 rows × 49 columns</p>\n",
       "</div>"
      ],
      "text/plain": [
       "      Unnamed: 0  Severity  Distance(mi)  Side  Temperature  Humidity_pct  \\\n",
       "0            733         3         0.000     0         71.1          55.0   \n",
       "1            763         3         0.000     0         73.0          44.0   \n",
       "2            764         2         0.000     0         77.0          40.0   \n",
       "3            786         3         0.000     0         71.1          47.0   \n",
       "4            806         2         0.000     0         61.0          67.0   \n",
       "...          ...       ...           ...   ...          ...           ...   \n",
       "8302     2897551         2         0.305     0         71.0          73.0   \n",
       "8303     2897559         2         0.674     0         78.0          56.0   \n",
       "8304     2897561         2         0.362     0         78.0          56.0   \n",
       "8305     2897574         2         0.037     0         73.0          61.0   \n",
       "8306     2897982         2         0.192     0         74.0          64.0   \n",
       "\n",
       "      Visibility_mi  Windspeed_mph  Amenity  Bump  ...  Mostly Cloudy / Windy  \\\n",
       "0              10.0            4.6        0     0  ...                      0   \n",
       "1              10.0           19.6        0     0  ...                      0   \n",
       "2              10.0           11.5        0     0  ...                      0   \n",
       "3              10.0           24.2        0     0  ...                      0   \n",
       "4              10.0           20.7        0     0  ...                      0   \n",
       "...             ...            ...      ...   ...  ...                    ...   \n",
       "8302           10.0            7.0        0     0  ...                      0   \n",
       "8303           10.0           15.0        0     0  ...                      0   \n",
       "8304           10.0           15.0        0     0  ...                      0   \n",
       "8305           10.0           17.0        0     0  ...                      0   \n",
       "8306            9.0            7.0        0     0  ...                      0   \n",
       "\n",
       "      Overcast  Partly Cloudy  Partly Cloudy / Windy  Patches of Fog  Rain  \\\n",
       "0            0              1                      0               0     0   \n",
       "1            0              1                      0               0     0   \n",
       "2            0              1                      0               0     0   \n",
       "3            0              1                      0               0     0   \n",
       "4            0              1                      0               0     0   \n",
       "...        ...            ...                    ...             ...   ...   \n",
       "8302         0              0                      0               0     0   \n",
       "8303         0              0                      0               0     0   \n",
       "8304         0              0                      0               0     0   \n",
       "8305         0              1                      0               0     0   \n",
       "8306         0              0                      0               0     0   \n",
       "\n",
       "      Rain / Windy  Scattered Clouds  Shallow Fog  Smoke  \n",
       "0                0                 0            0      0  \n",
       "1                0                 0            0      0  \n",
       "2                0                 0            0      0  \n",
       "3                0                 0            0      0  \n",
       "4                0                 0            0      0  \n",
       "...            ...               ...          ...    ...  \n",
       "8302             0                 0            0      0  \n",
       "8303             0                 0            0      0  \n",
       "8304             0                 0            0      0  \n",
       "8305             0                 0            0      0  \n",
       "8306             0                 0            0      0  \n",
       "\n",
       "[8307 rows x 49 columns]"
      ]
     },
     "execution_count": 58,
     "metadata": {},
     "output_type": "execute_result"
    }
   ],
   "source": [
    "gradient_sf = pd.read_csv('data/df_sanfran.csv')"
   ]
  },
  {
   "cell_type": "code",
   "execution_count": 59,
   "metadata": {},
   "outputs": [],
   "source": [
    "gradient_sf.drop('Unnamed: 0',1,inplace=True)"
   ]
  },
  {
   "cell_type": "code",
   "execution_count": 61,
   "metadata": {},
   "outputs": [
    {
     "data": {
      "text/plain": [
       "(8307, 48)"
      ]
     },
     "execution_count": 61,
     "metadata": {},
     "output_type": "execute_result"
    }
   ],
   "source": [
    "gradient_sf.shape"
   ]
  },
  {
   "cell_type": "code",
   "execution_count": 62,
   "metadata": {},
   "outputs": [],
   "source": [
    "y5 = gradient_sf.pop('Severity')"
   ]
  },
  {
   "cell_type": "code",
   "execution_count": 63,
   "metadata": {},
   "outputs": [],
   "source": [
    "X5 = gradient_sf"
   ]
  },
  {
   "cell_type": "code",
   "execution_count": 65,
   "metadata": {},
   "outputs": [],
   "source": [
    "X5 = preprocessing.StandardScaler().fit(X5).transform(X5)"
   ]
  },
  {
   "cell_type": "code",
   "execution_count": 67,
   "metadata": {},
   "outputs": [],
   "source": [
    "X5_train, X5_test, y5_train, y5_test = train_test_split(X5, y5, test_size=0.2, random_state=4)"
   ]
  },
  {
   "cell_type": "code",
   "execution_count": 150,
   "metadata": {},
   "outputs": [],
   "source": [
    "# parameters = [{'learning_rate': [0.5, 0.1,0.025,0.01],\n",
    "#              'n_estimators': [100,300,500,1000],\n",
    "#               'max_depth': [3,5,10,20,32]}]\n",
    "\n",
    "GB = GradientBoostingRegressor(learning_rate=0.11, \n",
    "                               n_estimators=100, \n",
    "                               max_depth=4,\n",
    "                               subsample=0.5)\n",
    "# grid = GridSearchCV(GB, parameters)\n",
    "# grid"
   ]
  },
  {
   "cell_type": "code",
   "execution_count": 151,
   "metadata": {},
   "outputs": [
    {
     "data": {
      "text/plain": [
       "GradientBoostingRegressor(alpha=0.9, criterion='friedman_mse', init=None,\n",
       "                          learning_rate=0.11, loss='ls', max_depth=4,\n",
       "                          max_features=None, max_leaf_nodes=None,\n",
       "                          min_impurity_decrease=0.0, min_impurity_split=None,\n",
       "                          min_samples_leaf=1, min_samples_split=2,\n",
       "                          min_weight_fraction_leaf=0.0, n_estimators=100,\n",
       "                          n_iter_no_change=None, presort='auto',\n",
       "                          random_state=None, subsample=0.5, tol=0.0001,\n",
       "                          validation_fraction=0.1, verbose=0, warm_start=False)"
      ]
     },
     "execution_count": 151,
     "metadata": {},
     "output_type": "execute_result"
    }
   ],
   "source": [
    "GB.fit(X5_train, y5_train)"
   ]
  },
  {
   "cell_type": "markdown",
   "metadata": {},
   "source": [
    "# R^2 GradientBoostingRegressor: 0.19156774891709116"
   ]
  },
  {
   "cell_type": "code",
   "execution_count": 152,
   "metadata": {
    "scrolled": true
   },
   "outputs": [
    {
     "data": {
      "text/plain": [
       "0.19156774891709116"
      ]
     },
     "execution_count": 152,
     "metadata": {},
     "output_type": "execute_result"
    }
   ],
   "source": [
    "GB.score(X5_test, y5_test)"
   ]
  },
  {
   "cell_type": "code",
   "execution_count": 153,
   "metadata": {},
   "outputs": [],
   "source": [
    "mse_gb = mean_squared_error(y5_test, GB.predict(X5_test))"
   ]
  },
  {
   "cell_type": "code",
   "execution_count": 154,
   "metadata": {},
   "outputs": [
    {
     "data": {
      "text/plain": [
       "array([2.03385583, 2.31423665, 2.60383794, ..., 2.16762017, 2.53678389,\n",
       "       2.62240788])"
      ]
     },
     "execution_count": 154,
     "metadata": {},
     "output_type": "execute_result"
    }
   ],
   "source": [
    "# GB y_pred\n",
    "y_pred = GB.predict(X5_test)\n",
    "y_pred"
   ]
  },
  {
   "cell_type": "markdown",
   "metadata": {},
   "source": [
    "# MSE GradientBoostingRegressor : 0.20552179225176906"
   ]
  },
  {
   "cell_type": "code",
   "execution_count": 155,
   "metadata": {},
   "outputs": [
    {
     "data": {
      "text/plain": [
       "0.20552179225176906"
      ]
     },
     "execution_count": 155,
     "metadata": {},
     "output_type": "execute_result"
    }
   ],
   "source": [
    "mse_gb"
   ]
  },
  {
   "cell_type": "code",
   "execution_count": 177,
   "metadata": {},
   "outputs": [
    {
     "data": {
      "image/png": "[encoded data removed]",
      "text/plain": [
       "<Figure size 1368x720 with 1 Axes>"
      ]
     },
     "metadata": {
      "needs_background": "light"
     },
     "output_type": "display_data"
    }
   ],
   "source": [
    "# compute test set deviance\n",
    "params = {'n_estimators': 100}\n",
    "test_score = np.zeros((params['n_estimators'],), dtype=np.float64)\n",
    "\n",
    "for i, y_pred in enumerate(GB.staged_predict(X5_test)):\n",
    "    test_score[i] = GB.loss_(y5_test, y_pred)\n",
    "\n",
    "plt.figure(figsize=(19, 10))\n",
    "plt.subplot(1, 2, 1)\n",
    "plt.title('Deviance')\n",
    "plt.plot(np.arange(params['n_estimators']) + 1, GB.train_score_, 'b-',\n",
    "         label='Training Set Deviance',\n",
    "        linewidth=2)\n",
    "plt.plot(np.arange(params['n_estimators']) + 1, test_score, 'r-',\n",
    "         label='Test Set Deviance',\n",
    "        linewidth=2)\n",
    "plt.xlim(0,100)\n",
    "plt.ylim(0,0.25)\n",
    "plt.legend(loc='upper right')\n",
    "plt.xlabel('Boosting Iterations',\n",
    "          labelpad=20)\n",
    "plt.ylabel('Deviance',\n",
    "          labelpad=20)\n",
    "# plt.grid('off')\n",
    "plt.tight_layout();\n",
    "plt.savefig('img/deviance.jpg')"
   ]
  },
  {
   "cell_type": "code",
   "execution_count": null,
   "metadata": {},
   "outputs": [],
   "source": []
  },
  {
   "cell_type": "code",
   "execution_count": null,
   "metadata": {},
   "outputs": [],
   "source": []
  },
  {
   "cell_type": "code",
   "execution_count": null,
   "metadata": {},
   "outputs": [],
   "source": []
  },
  {
   "cell_type": "code",
   "execution_count": null,
   "metadata": {},
   "outputs": [],
   "source": []
  },
  {
   "cell_type": "code",
   "execution_count": null,
   "metadata": {},
   "outputs": [],
   "source": []
  },
  {
   "cell_type": "code",
   "execution_count": null,
   "metadata": {},
   "outputs": [],
   "source": []
  },
  {
   "cell_type": "code",
   "execution_count": null,
   "metadata": {},
   "outputs": [],
   "source": [
    "os.system(\"say 'you may continue working'\")"
   ]
  }
 ],
 "metadata": {
  "kernelspec": {
   "display_name": "Python 3",
   "language": "python",
   "name": "python3"
  },
  "language_info": {
   "codemirror_mode": {
    "name": "ipython",
    "version": 3
   },
   "file_extension": ".py",
   "mimetype": "text/x-python",
   "name": "python",
   "nbconvert_exporter": "python",
   "pygments_lexer": "ipython3",
   "version": "3.7.4"
  }
 },
 "nbformat": 4,
 "nbformat_minor": 2
}
